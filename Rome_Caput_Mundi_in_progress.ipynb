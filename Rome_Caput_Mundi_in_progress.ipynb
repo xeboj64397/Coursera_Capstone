{
 "cells": [
  {
   "cell_type": "markdown",
   "metadata": {},
   "source": [
    "## Capstone Project - Rome Caput Mundi...\n",
    "### Rome! That's a wonderful city with a lots of... air pollution"
   ]
  },
  {
   "cell_type": "markdown",
   "metadata": {},
   "source": [
    "## Table of contents\n",
    "* [Introduction](#introduction)\n",
    "* [Data](#data)\n",
    "* [Methodology](#methodology)\n",
    "* [Analysis](#analysis)\n",
    "* [Results and Discussion](#results)\n",
    "* [Conclusion](#conclusion)"
   ]
  },
  {
   "cell_type": "markdown",
   "metadata": {},
   "source": [
    "## Introduction <a name=\"introduction\"></a>\n",
    "\n",
    "Rome! That's a wonderful city with a lots of... air pollution\n",
    "\n",
    "This project aims to select the neighborhood with the less concentration of air pollution in Rome where to do an **[\"aperitivo\"](https://en.wikipedia.org/wiki/Ap%C3%A9ritif_and_digestif)** and share a nice talk with your friends. To do this will be taken into account the real air pollution data of Rome thank to different main control units located on the ground. \n",
    "\n",
    "Unfortunately or fortunately air **pollution varies day-by-day and zone-by-zone** depending of the period of the year, of the number of automobiles, houses heating, farm animals (it sound strange but is's true...), and so on. For these reasons we decided that only the first three (with less **PM10** values) control units will be choosen. The geographical coordinates of those control units will be crossed with the geographical coordinates of the neighborhoods in order to get all bar and choose the best three.\n",
    "\n",
    "At that point it will be possible to choose where to have fun."
   ]
  },
  {
   "cell_type": "markdown",
   "metadata": {},
   "source": [
    "## Data <a name=\"data\"></a>\n",
    "\n",
    "Following data sources will be needed to extract/generate the required information:\n",
    "\n",
    "- **[PM10 values](http://www.arpalazio.net/main/aria/sci/qa/misure/PM10.php)**: Real time experimental measures of the PM10 particles scraped from the official ARPALAZIO website\n",
    "- **[Latitude and Longitude values 1](http://www.arpalazio.net/main/aria/sci/basedati/bollettini/2018/BA092018.pdf)**: Geographical coordinates (lat and lon) of the control units extracted from an official pdf document on the ARPALAZIO website\n",
    "- **Latitude and Longitude values 2**: Geographical coordinates of neighborhoods obtained \n",
    "- **Bar**: Names and statistical data of bar and activities obtained from Foursquare services"
   ]
  },
  {
   "cell_type": "markdown",
   "metadata": {},
   "source": [
    "### Import necessary libraries"
   ]
  },
  {
   "cell_type": "code",
   "execution_count": 1,
   "metadata": {},
   "outputs": [
    {
     "name": "stdout",
     "output_type": "stream",
     "text": [
      "Folium installed\n",
      "Libraries imported.\n"
     ]
    },
    {
     "data": {
      "text/plain": [
       "'Italian_Italy.1252'"
      ]
     },
     "execution_count": 1,
     "metadata": {},
     "output_type": "execute_result"
    }
   ],
   "source": [
    "import urllib.request as urllib2\n",
    "\n",
    "import html5lib # library to parse html code\n",
    "import requests # library to handle requests\n",
    "import pandas as pd # library for data analsysis\n",
    "import numpy as np # library to handle data in a vectorized manner\n",
    "import random # library for random number generation\n",
    "from bs4 import BeautifulSoup # library for web scrapping  \n",
    "\n",
    "import geocoder\n",
    "\n",
    "from geopy.geocoders import Nominatim # module to convert an address into latitude and longitude values\n",
    "from IPython.display import Image \n",
    "from IPython.core.display import HTML    \n",
    "from pandas.io.json import json_normalize\n",
    "from tabula import read_pdf\n",
    "\n",
    "import folium # plotting library\n",
    "\n",
    "print('Folium installed')\n",
    "print('Libraries imported.')\n",
    "\n",
    "import locale\n",
    "locale.setlocale( locale.LC_ALL, '' )"
   ]
  }
 ],
 "metadata": {
  "kernelspec": {
   "display_name": "Python 3",
   "language": "python",
   "name": "python3"
  },
  "language_info": {
   "codemirror_mode": {
    "name": "ipython",
    "version": 3
   },
   "file_extension": ".py",
   "mimetype": "text/x-python",
   "name": "python",
   "nbconvert_exporter": "python",
   "pygments_lexer": "ipython3",
   "version": "3.8.1"
  }
 },
 "nbformat": 4,
 "nbformat_minor": 4
}
